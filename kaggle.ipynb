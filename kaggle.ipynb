{
 "cells": [
  {
   "cell_type": "markdown",
   "metadata": {},
   "source": [
    "### Prerequsites:\n",
    "##### 1. Add Input -> Competition Datasets -> search \"Deep Learning Spring 2025: CIFAR 10 classification\" -> Click + icon to add the competition's datasets\n",
    "##### 2. Sign in and set accelerator in session options to GPU P100\n"
   ]
  },
  {
   "cell_type": "markdown",
   "metadata": {},
   "source": [
    "#### 1. Check if the competition files were downloaded as input properly, expect the printed path of the downloaded files "
   ]
  },
  {
   "cell_type": "code",
   "execution_count": null,
   "metadata": {
    "_cell_guid": "b1076dfc-b9ad-4769-8c92-a6c4dae69d19",
    "_uuid": "8f2839f25d086af736a60e9eeb907d3b93b6e0e5",
    "execution": {
     "iopub.execute_input": "2025-03-11T19:25:27.939765Z",
     "iopub.status.busy": "2025-03-11T19:25:27.939482Z",
     "iopub.status.idle": "2025-03-11T19:25:28.970336Z",
     "shell.execute_reply": "2025-03-11T19:25:28.969484Z",
     "shell.execute_reply.started": "2025-03-11T19:25:27.939733Z"
    },
    "trusted": true
   },
   "outputs": [],
   "source": [
    "import numpy as np \n",
    "import pandas as pd \n",
    "\n",
    "\n",
    "import os\n",
    "for dirname, _, filenames in os.walk('/kaggle/input'):\n",
    "    for filename in filenames:\n",
    "        print(os.path.join(dirname, filename))"
   ]
  },
  {
   "cell_type": "markdown",
   "metadata": {},
   "source": [
    "#### 2. Clone github repo for access to functions"
   ]
  },
  {
   "cell_type": "code",
   "execution_count": null,
   "metadata": {
    "execution": {
     "iopub.execute_input": "2025-03-11T19:25:33.574042Z",
     "iopub.status.busy": "2025-03-11T19:25:33.573699Z",
     "iopub.status.idle": "2025-03-11T19:25:46.811457Z",
     "shell.execute_reply": "2025-03-11T19:25:46.810671Z",
     "shell.execute_reply.started": "2025-03-11T19:25:33.574008Z"
    },
    "trusted": true
   },
   "outputs": [],
   "source": [
    "!git clone https://github.com/aaronbengochea/cifar10-research.git\n",
    "%cd cifar10-research"
   ]
  },
  {
   "cell_type": "markdown",
   "metadata": {},
   "source": [
    "#### 3. Import functions from the cloned github repo"
   ]
  },
  {
   "cell_type": "code",
   "execution_count": null,
   "metadata": {
    "execution": {
     "iopub.execute_input": "2025-03-11T19:25:49.620345Z",
     "iopub.status.busy": "2025-03-11T19:25:49.620055Z",
     "iopub.status.idle": "2025-03-11T19:25:55.543754Z",
     "shell.execute_reply": "2025-03-11T19:25:55.543082Z",
     "shell.execute_reply.started": "2025-03-11T19:25:49.620320Z"
    },
    "trusted": true
   },
   "outputs": [],
   "source": [
    "import torch\n",
    "import torch.optim as optim\n",
    "from torchsummary import summary\n",
    "from resnet import create_basicblock_model\n",
    "from training import main as train\n",
    "from inference import main as inference"
   ]
  },
  {
   "cell_type": "markdown",
   "metadata": {},
   "source": [
    "#### 4. Set model parameters"
   ]
  },
  {
   "cell_type": "code",
   "execution_count": null,
   "metadata": {
    "execution": {
     "iopub.execute_input": "2025-03-11T19:25:57.442005Z",
     "iopub.status.busy": "2025-03-11T19:25:57.441509Z",
     "iopub.status.idle": "2025-03-11T19:25:57.447220Z",
     "shell.execute_reply": "2025-03-11T19:25:57.446186Z",
     "shell.execute_reply.started": "2025-03-11T19:25:57.441942Z"
    },
    "trusted": true
   },
   "outputs": [],
   "source": [
    "# Model parameters\n",
    "MODEL_NAME = 'ResNet40_BestModel'\n",
    "NUM_STARTING_INPUT_CHANNELS = 3\n",
    "NUM_BLOCKS_PER_LAYER = [5, 7, 4, 3]\n",
    "NUM_CHANNELS_PER_LAYER = [32, 64, 128, 256]\n",
    "KERNEL_SIZE_PER_LAYER = [3, 3, 3, 3]\n",
    "SKIP_KERNEL_SIZE_PER_LAYER = [1, 1, 1, 1]\n",
    "\n",
    "\n",
    "# Training parameters\n",
    "EPOCHS = 310\n",
    "TRAIN_BATCH_SIZE = 128\n",
    "TEST_BATCH_SIZE = 100\n",
    "AUGMENT = True"
   ]
  },
  {
   "cell_type": "markdown",
   "metadata": {},
   "source": [
    "#### 5. Create the model, check parameter count and generate model summary"
   ]
  },
  {
   "cell_type": "code",
   "execution_count": null,
   "metadata": {
    "execution": {
     "iopub.execute_input": "2025-03-11T19:26:00.869361Z",
     "iopub.status.busy": "2025-03-11T19:26:00.869072Z",
     "iopub.status.idle": "2025-03-11T19:26:01.981131Z",
     "shell.execute_reply": "2025-03-11T19:26:01.980105Z",
     "shell.execute_reply.started": "2025-03-11T19:26:00.869338Z"
    },
    "trusted": true
   },
   "outputs": [],
   "source": [
    "model = create_basicblock_model(\n",
    "    name = MODEL_NAME,\n",
    "    starting_input_channels = NUM_STARTING_INPUT_CHANNELS,\n",
    "    blocks_per_layer = NUM_BLOCKS_PER_LAYER,\n",
    "    channels_per_layer = NUM_CHANNELS_PER_LAYER,\n",
    "    kernels_per_layer = KERNEL_SIZE_PER_LAYER,\n",
    "    skip_kernels_per_layer = SKIP_KERNEL_SIZE_PER_LAYER\n",
    "    \n",
    ")\n",
    "\n",
    "# Move model to GPU if available\n",
    "device = torch.device(\"cuda\" if torch.cuda.is_available() else \"cpu\")\n",
    "model = model.to(device)\n",
    "\n",
    "print('Total model parameters:', sum(p.numel() for p in model.parameters() if p.requires_grad))\n",
    "summary(model, (3, 32, 32))"
   ]
  },
  {
   "cell_type": "markdown",
   "metadata": {},
   "source": [
    "#### 6. Define the optimizer of choice (only choose one, comment the rest)"
   ]
  },
  {
   "cell_type": "code",
   "execution_count": null,
   "metadata": {
    "execution": {
     "iopub.execute_input": "2025-03-11T19:26:47.113096Z",
     "iopub.status.busy": "2025-03-11T19:26:47.112758Z",
     "iopub.status.idle": "2025-03-11T19:26:47.118073Z",
     "shell.execute_reply": "2025-03-11T19:26:47.117227Z",
     "shell.execute_reply.started": "2025-03-11T19:26:47.113067Z"
    },
    "trusted": true
   },
   "outputs": [],
   "source": [
    "OPTIMIZER = optim.SGD(model.parameters(), lr=0.1, momentum=0.9, weight_decay=5e-4)\n",
    "# OPTIMIZER = optim.Adam(model.parameters(), lr=0.1, weight_decay=1e-4)"
   ]
  },
  {
   "cell_type": "markdown",
   "metadata": {},
   "source": [
    "#### 7. Define the schedular of choice (only choose one, comment the rest)"
   ]
  },
  {
   "cell_type": "code",
   "execution_count": null,
   "metadata": {
    "execution": {
     "iopub.execute_input": "2025-03-11T19:26:48.535183Z",
     "iopub.status.busy": "2025-03-11T19:26:48.534872Z",
     "iopub.status.idle": "2025-03-11T19:26:48.539101Z",
     "shell.execute_reply": "2025-03-11T19:26:48.538207Z",
     "shell.execute_reply.started": "2025-03-11T19:26:48.535160Z"
    },
    "trusted": true
   },
   "outputs": [],
   "source": [
    "SCHEDULER = optim.lr_scheduler.CosineAnnealingLR(OPTIMIZER, T_max=EPOCHS)\n",
    "# SCHEDULER = optim.lr_scheduler.ReduceLROnPlateau(OPTIMIZER, mode='max', factor=0.50, patience=3)"
   ]
  },
  {
   "cell_type": "markdown",
   "metadata": {},
   "source": [
    "#### 8. Train the model\n",
    "**Model Checkpoints**\n",
    "- Each time we achieve a new accuracy milestone on the CIFAR-10 labeled testset, we save the milestone model\n",
    "- Model checkpoint directory: /kaggle/working/model_checkpoint_history\n",
    "\n",
    "**Model Training/Test Performance History**\n",
    "- We save our models performance metrics on each epoch cycle\n",
    "- The metrics include Avg train/test loss, train/test accuracy, and learning rate\n",
    "- Model performance directory: /kaggle/working/training_history"
   ]
  },
  {
   "cell_type": "code",
   "execution_count": null,
   "metadata": {
    "execution": {
     "iopub.execute_input": "2025-03-11T19:27:05.954271Z",
     "iopub.status.busy": "2025-03-11T19:27:05.953915Z",
     "iopub.status.idle": "2025-03-11T19:27:48.142535Z",
     "shell.execute_reply": "2025-03-11T19:27:48.141289Z",
     "shell.execute_reply.started": "2025-03-11T19:27:05.954243Z"
    },
    "trusted": true
   },
   "outputs": [],
   "source": [
    "train(\n",
    "    model=model,\n",
    "    epochs=EPOCHS,\n",
    "    train_batch_size=TRAIN_BATCH_SIZE,\n",
    "    test_batch_size=TEST_BATCH_SIZE,\n",
    "    augment=AUGMENT,\n",
    "    optimizer=OPTIMIZER,\n",
    "    scheduler=SCHEDULER\n",
    ")"
   ]
  },
  {
   "cell_type": "markdown",
   "metadata": {},
   "source": [
    "#### 9. Perform inference on the competition hidden testset\n",
    "- Inference is performed on all models saved as checkpoints, this allows us to test different model checkpoints vs the hidden testset\n",
    "- Model inference directory: /kaggle/working/predictions_history"
   ]
  },
  {
   "cell_type": "code",
   "execution_count": null,
   "metadata": {
    "execution": {
     "iopub.execute_input": "2025-03-11T19:27:53.761077Z",
     "iopub.status.busy": "2025-03-11T19:27:53.760725Z",
     "iopub.status.idle": "2025-03-11T19:27:56.953694Z",
     "shell.execute_reply": "2025-03-11T19:27:56.952940Z",
     "shell.execute_reply.started": "2025-03-11T19:27:53.761046Z"
    },
    "trusted": true
   },
   "outputs": [],
   "source": [
    "inference()"
   ]
  }
 ],
 "metadata": {
  "kaggle": {
   "accelerator": "none",
   "dataSources": [
    {
     "databundleVersionId": 11145869,
     "sourceId": 93057,
     "sourceType": "competition"
    }
   ],
   "dockerImageVersionId": 30919,
   "isGpuEnabled": false,
   "isInternetEnabled": true,
   "language": "python",
   "sourceType": "notebook"
  },
  "kernelspec": {
   "display_name": "Python 3",
   "language": "python",
   "name": "python3"
  },
  "language_info": {
   "codemirror_mode": {
    "name": "ipython",
    "version": 3
   },
   "file_extension": ".py",
   "mimetype": "text/x-python",
   "name": "python",
   "nbconvert_exporter": "python",
   "pygments_lexer": "ipython3",
   "version": "3.10.12"
  }
 },
 "nbformat": 4,
 "nbformat_minor": 4
}
